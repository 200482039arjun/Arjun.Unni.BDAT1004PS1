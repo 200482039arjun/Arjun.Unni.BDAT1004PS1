{
 "cells": [
  {
   "cell_type": "markdown",
   "id": "c2b3e96e",
   "metadata": {},
   "source": [
    "### Question 1"
   ]
  },
  {
   "cell_type": "code",
   "execution_count": 1,
   "id": "b1c1d089",
   "metadata": {},
   "outputs": [
    {
     "data": {
      "text/html": [
       "\r\n",
       "<div>\r\n",
       "    <div id='dotnet-interactive-this-cell-18728.Microsoft.DotNet.Interactive.Http.HttpPort' style='display: none'>\r\n",
       "        The below script needs to be able to find the current output cell; this is an easy method to get it.\r\n",
       "    </div>\r\n",
       "    <script type='text/javascript'>\r\n",
       "async function probeAddresses(probingAddresses) {\r\n",
       "    function timeout(ms, promise) {\r\n",
       "        return new Promise(function (resolve, reject) {\r\n",
       "            setTimeout(function () {\r\n",
       "                reject(new Error('timeout'))\r\n",
       "            }, ms)\r\n",
       "            promise.then(resolve, reject)\r\n",
       "        })\r\n",
       "    }\r\n",
       "\r\n",
       "    if (Array.isArray(probingAddresses)) {\r\n",
       "        for (let i = 0; i < probingAddresses.length; i++) {\r\n",
       "\r\n",
       "            let rootUrl = probingAddresses[i];\r\n",
       "\r\n",
       "            if (!rootUrl.endsWith('/')) {\r\n",
       "                rootUrl = `${rootUrl}/`;\r\n",
       "            }\r\n",
       "\r\n",
       "            try {\r\n",
       "                let response = await timeout(1000, fetch(`${rootUrl}discovery`, {\r\n",
       "                    method: 'POST',\r\n",
       "                    cache: 'no-cache',\r\n",
       "                    mode: 'cors',\r\n",
       "                    timeout: 1000,\r\n",
       "                    headers: {\r\n",
       "                        'Content-Type': 'text/plain'\r\n",
       "                    },\r\n",
       "                    body: probingAddresses[i]\r\n",
       "                }));\r\n",
       "\r\n",
       "                if (response.status == 200) {\r\n",
       "                    return rootUrl;\r\n",
       "                }\r\n",
       "            }\r\n",
       "            catch (e) { }\r\n",
       "        }\r\n",
       "    }\r\n",
       "}\r\n",
       "\r\n",
       "function loadDotnetInteractiveApi() {\r\n",
       "    probeAddresses([\"http://192.168.2.38:1000/\", \"http://127.0.0.1:1000/\"])\r\n",
       "        .then((root) => {\r\n",
       "        // use probing to find host url and api resources\r\n",
       "        // load interactive helpers and language services\r\n",
       "        let dotnetInteractiveRequire = require.config({\r\n",
       "        context: '18728.Microsoft.DotNet.Interactive.Http.HttpPort',\r\n",
       "                paths:\r\n",
       "            {\r\n",
       "                'dotnet-interactive': `${root}resources`\r\n",
       "                }\r\n",
       "        }) || require;\r\n",
       "\r\n",
       "            window.dotnetInteractiveRequire = dotnetInteractiveRequire;\r\n",
       "\r\n",
       "            window.configureRequireFromExtension = function(extensionName, extensionCacheBuster) {\r\n",
       "                let paths = {};\r\n",
       "                paths[extensionName] = `${root}extensions/${extensionName}/resources/`;\r\n",
       "                \r\n",
       "                let internalRequire = require.config({\r\n",
       "                    context: extensionCacheBuster,\r\n",
       "                    paths: paths,\r\n",
       "                    urlArgs: `cacheBuster=${extensionCacheBuster}`\r\n",
       "                    }) || require;\r\n",
       "\r\n",
       "                return internalRequire\r\n",
       "            };\r\n",
       "        \r\n",
       "            dotnetInteractiveRequire([\r\n",
       "                    'dotnet-interactive/dotnet-interactive'\r\n",
       "                ],\r\n",
       "                function (dotnet) {\r\n",
       "                    dotnet.init(window);\r\n",
       "                },\r\n",
       "                function (error) {\r\n",
       "                    console.log(error);\r\n",
       "                }\r\n",
       "            );\r\n",
       "        })\r\n",
       "        .catch(error => {console.log(error);});\r\n",
       "    }\r\n",
       "\r\n",
       "// ensure `require` is available globally\r\n",
       "if ((typeof(require) !==  typeof(Function)) || (typeof(require.config) !== typeof(Function))) {\r\n",
       "    let require_script = document.createElement('script');\r\n",
       "    require_script.setAttribute('src', 'https://cdnjs.cloudflare.com/ajax/libs/require.js/2.3.6/require.min.js');\r\n",
       "    require_script.setAttribute('type', 'text/javascript');\r\n",
       "    \r\n",
       "    \r\n",
       "    require_script.onload = function() {\r\n",
       "        loadDotnetInteractiveApi();\r\n",
       "    };\r\n",
       "\r\n",
       "    document.getElementsByTagName('head')[0].appendChild(require_script);\r\n",
       "}\r\n",
       "else {\r\n",
       "    loadDotnetInteractiveApi();\r\n",
       "}\r\n",
       "\r\n",
       "    </script>\r\n",
       "</div>"
      ]
     },
     "metadata": {},
     "output_type": "display_data"
    }
   ],
   "source": [
    "object a = 5;\n",
    "object b = 5.0;\n",
    "object c = 5>1;\n",
    "object d = '5';\n",
    "object e = 5*2;\n",
    "object f = '5'*2;\n",
    "object g = '5' + '2';\n",
    "object h = 5 / 2;\n",
    "object i = 5 % 2;\n",
    "object k = 5==3;\n",
    "object pi = Math.PI; "
   ]
  },
  {
   "cell_type": "code",
   "execution_count": 2,
   "id": "b4f3a625",
   "metadata": {},
   "outputs": [
    {
     "name": "stdout",
     "output_type": "stream",
     "text": [
      "System.Int32\n",
      "System.Double\n",
      "System.Boolean\n",
      "System.Char\n",
      "System.Int32\n",
      "System.Int32\n",
      "System.Int32\n",
      "System.Int32\n",
      "System.Int32\n",
      "System.Boolean\n",
      "System.Double\n"
     ]
    }
   ],
   "source": [
    "Console.WriteLine(a.GetType());\n",
    "Console.WriteLine(b.GetType());\n",
    "Console.WriteLine(c.GetType());\n",
    "Console.WriteLine(d.GetType());\n",
    "Console.WriteLine(e.GetType());\n",
    "Console.WriteLine(f.GetType());\n",
    "Console.WriteLine(g.GetType());\n",
    "Console.WriteLine(h.GetType());\n",
    "Console.WriteLine(i.GetType());\n",
    "Console.WriteLine(k.GetType());\n",
    "Console.WriteLine(pi.GetType());"
   ]
  },
  {
   "cell_type": "markdown",
   "id": "3af3f62a",
   "metadata": {},
   "source": [
    "### Question2"
   ]
  },
  {
   "cell_type": "markdown",
   "id": "c4a84491",
   "metadata": {},
   "source": [
    "### 2a"
   ]
  },
  {
   "cell_type": "code",
   "execution_count": 3,
   "id": "6fe5ce14",
   "metadata": {},
   "outputs": [
    {
     "name": "stdout",
     "output_type": "stream",
     "text": [
      "34\r\n"
     ]
    }
   ],
   "source": [
    "string str = \"Supercalifragilisticexpialidocious\";\n",
    "int  k = str.Length;\n",
    "Console.WriteLine(k);"
   ]
  },
  {
   "cell_type": "markdown",
   "id": "2fcd5c45",
   "metadata": {},
   "source": [
    "### 2b"
   ]
  },
  {
   "cell_type": "code",
   "execution_count": null,
   "id": "4c03c1b6",
   "metadata": {},
   "outputs": [],
   "source": [
    " "
   ]
  },
  {
   "cell_type": "markdown",
   "id": "c2957c48",
   "metadata": {},
   "source": [
    "### 2c"
   ]
  },
  {
   "cell_type": "code",
   "execution_count": 4,
   "id": "c5d57e9a",
   "metadata": {},
   "outputs": [
    {
     "name": "stdout",
     "output_type": "stream",
     "text": [
      "Supercalifragilisticexpialidocious\r\n"
     ]
    }
   ],
   "source": [
    "string[] arr = new string[] { \"Supercalifragilisticexpialidocious\", \"Honorificabilitudinitatibus\", \"Bababadalgharaghtakamminarronnkon\" };\n",
    "\n",
    "var longest = arr.Where(s => s.Length == arr.Max(m => m.Length)).First();\n",
    "Console.WriteLine(longest);"
   ]
  },
  {
   "cell_type": "markdown",
   "id": "2bd9974b",
   "metadata": {},
   "source": [
    "### 2d"
   ]
  },
  {
   "cell_type": "code",
   "execution_count": null,
   "id": "7e7eabab",
   "metadata": {},
   "outputs": [],
   "source": []
  },
  {
   "cell_type": "code",
   "execution_count": null,
   "id": "4ae6727a",
   "metadata": {},
   "outputs": [],
   "source": []
  },
  {
   "cell_type": "markdown",
   "id": "f5b3ff7e",
   "metadata": {},
   "source": [
    "### Question 3"
   ]
  },
  {
   "cell_type": "code",
   "execution_count": 5,
   "id": "d11e268a",
   "metadata": {},
   "outputs": [
    {
     "name": "stderr",
     "output_type": "stream",
     "text": [
      "\r\n",
      "(4,24): warning CS7022: The entry point of the program is global code; ignoring 'triangleArea.Main()' entry point.\r\n",
      "\r\n"
     ]
    }
   ],
   "source": [
    "using System;\n",
    "public class triangleArea\n",
    "{\n",
    "    public static void Main()\n",
    "    {\n",
    "        Console.Write(\"Enter length of side 1:\");\n",
    "        double side1 = Convert.ToDouble(Console.ReadLine());\n",
    "        Console.Write(\"Enter length of side 2:\");\n",
    "        double side2 = Convert.ToDouble(Console.ReadLine());\n",
    "        Console.Write(\"Enter length of side 3:\");\n",
    "        double side3 = Convert.ToDouble(Console.ReadLine());\n",
    "\n",
    "        double semiperimeter = (side1 + side2 + side3) / 2;\n",
    "        double Area = Math.Sqrt(semiperimeter * (semiperimeter - side1) * (semiperimeter - side2) * (semiperimeter - side3));\n",
    "        Console.Write(\"Area of a Triangle = \" + Area);\n",
    "        Console.ReadKey();\n",
    "    }\n",
    "}"
   ]
  },
  {
   "cell_type": "code",
   "execution_count": null,
   "id": "3ffd1916",
   "metadata": {},
   "outputs": [],
   "source": []
  },
  {
   "cell_type": "markdown",
   "id": "4b11dd4e",
   "metadata": {},
   "source": [
    "### Question 4"
   ]
  },
  {
   "cell_type": "code",
   "execution_count": 6,
   "id": "747a301f",
   "metadata": {},
   "outputs": [
    {
     "name": "stderr",
     "output_type": "stream",
     "text": [
      "\r\n",
      "(4,24): warning CS7022: The entry point of the program is global code; ignoring 'Exercise10.Main()' entry point.\r\n",
      "\r\n"
     ]
    }
   ],
   "source": [
    "using System;  \n",
    "public class Exercise10 \n",
    "{  \n",
    "    public static void Main() \n",
    " {\n",
    "    int[] arr1 = new int[10];\n",
    "    int[] arr2 = new int[10];\n",
    "    int[] arr3 = new int[10];\n",
    "    int i,j=0,k=0,n;\n",
    "    \n",
    "    \n",
    "       Console.Write(\"\\n\\nSeparate odd and even integers in separate arrays:\\n\");\n",
    "       Console.Write(\"------------------------------------------------------\\n\");\n",
    "\n",
    "       Console.Write(\"Input the number of elements to be stored in the array :\");\n",
    "       n = Convert.ToInt32(Console.ReadLine());    \n",
    "   \n",
    "       Console.Write(\"Input {0} elements in the array :\\n\",n);\n",
    "       for(i=0;i<n;i++)\n",
    "            {\n",
    "              Console.Write(\"element - {0} : \",i);\n",
    "          arr1[i] = Convert.ToInt32(Console.ReadLine());  \n",
    "        }\n",
    "\n",
    "    for(i=0;i<n;i++)\n",
    "    {\n",
    "    if (arr1[i]%2 == 0)\n",
    "    {\n",
    "       arr2[j] = arr1[i];\n",
    "       j++;\n",
    "    }\n",
    "    else\n",
    "    {\n",
    "       arr3[k] = arr1[i];\n",
    "       k++;\n",
    "    }\n",
    "    }\n",
    "\n",
    "    Console.Write(\"\\nThe Even elements are : \\n\");\n",
    "    for(i=0;i<j;i++)\n",
    "    {\n",
    "    Console.Write(\"{0} \",arr2[i]);\n",
    "    }\n",
    "\n",
    "    Console.Write(\"\\nThe Odd elements are :\\n\");\n",
    "    for(i=0;i<k;i++)\n",
    "    {\n",
    "    Console.Write(\"{0} \", arr3[i]);\n",
    "    }\n",
    "    Console.Write(\"\\n\\n\");\n",
    "   }\n",
    " }"
   ]
  },
  {
   "cell_type": "code",
   "execution_count": null,
   "id": "8d659049",
   "metadata": {},
   "outputs": [],
   "source": []
  }
 ],
 "metadata": {
  "kernelspec": {
   "display_name": ".NET (C#)",
   "language": "C#",
   "name": ".net-csharp"
  },
  "language_info": {
   "file_extension": ".cs",
   "mimetype": "text/x-csharp",
   "name": "C#",
   "pygments_lexer": "csharp",
   "version": "10.0"
  }
 },
 "nbformat": 4,
 "nbformat_minor": 5
}
